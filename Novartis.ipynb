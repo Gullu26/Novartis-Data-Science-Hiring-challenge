{
 "cells": [
  {
   "cell_type": "code",
   "execution_count": 1,
   "metadata": {},
   "outputs": [],
   "source": [
    "import numpy as np\n",
    "import pandas as pd\n",
    "import seaborn as sns\n",
    "import matplotlib.pyplot as plt\n",
    "from matplotlib.pylab import rcParams\n",
    "rcParams['figure.figsize'] = 12, 4"
   ]
  },
  {
   "cell_type": "code",
   "execution_count": 2,
   "metadata": {},
   "outputs": [],
   "source": [
    "#read train and test csv\n",
    "train_df=pd.read_csv(\"/Users/taramathur/Downloads/Practise/Novartis_Challenge_Hacking_Prediction/data/train.csv\")\n",
    "train=train_df\n",
    "test_df=pd.read_csv(\"/Users/taramathur/Downloads/Practise/Novartis_Challenge_Hacking_Prediction/data/test.csv\")"
   ]
  },
  {
   "cell_type": "code",
   "execution_count": 3,
   "metadata": {},
   "outputs": [
    {
     "data": {
      "text/plain": [
       "Index(['INCIDENT_ID', 'DATE', 'X_1', 'X_2', 'X_3', 'X_4', 'X_5', 'X_6', 'X_7',\n",
       "       'X_8', 'X_9', 'X_10', 'X_11', 'X_12', 'X_13', 'X_14', 'X_15'],\n",
       "      dtype='object')"
      ]
     },
     "execution_count": 3,
     "metadata": {},
     "output_type": "execute_result"
    }
   ],
   "source": [
    "test_df.columns"
   ]
  },
  {
   "cell_type": "code",
   "execution_count": 4,
   "metadata": {},
   "outputs": [
    {
     "data": {
      "text/plain": [
       "((23856, 18), (15903, 17))"
      ]
     },
     "execution_count": 4,
     "metadata": {},
     "output_type": "execute_result"
    }
   ],
   "source": [
    "train_df.shape,test_df.shape"
   ]
  },
  {
   "cell_type": "code",
   "execution_count": 5,
   "metadata": {},
   "outputs": [
    {
     "data": {
      "text/plain": [
       "Index(['INCIDENT_ID', 'DATE', 'X_1', 'X_2', 'X_3', 'X_4', 'X_5', 'X_6', 'X_7',\n",
       "       'X_8', 'X_9', 'X_10', 'X_11', 'X_12', 'X_13', 'X_14', 'X_15',\n",
       "       'MULTIPLE_OFFENSE'],\n",
       "      dtype='object')"
      ]
     },
     "execution_count": 5,
     "metadata": {},
     "output_type": "execute_result"
    }
   ],
   "source": [
    "train_df.columns"
   ]
  },
  {
   "cell_type": "code",
   "execution_count": 6,
   "metadata": {},
   "outputs": [
    {
     "data": {
      "text/html": [
       "<div>\n",
       "<style scoped>\n",
       "    .dataframe tbody tr th:only-of-type {\n",
       "        vertical-align: middle;\n",
       "    }\n",
       "\n",
       "    .dataframe tbody tr th {\n",
       "        vertical-align: top;\n",
       "    }\n",
       "\n",
       "    .dataframe thead th {\n",
       "        text-align: right;\n",
       "    }\n",
       "</style>\n",
       "<table border=\"1\" class=\"dataframe\">\n",
       "  <thead>\n",
       "    <tr style=\"text-align: right;\">\n",
       "      <th></th>\n",
       "      <th>INCIDENT_ID</th>\n",
       "      <th>DATE</th>\n",
       "      <th>X_1</th>\n",
       "      <th>X_2</th>\n",
       "      <th>X_3</th>\n",
       "      <th>X_4</th>\n",
       "      <th>X_5</th>\n",
       "      <th>X_6</th>\n",
       "      <th>X_7</th>\n",
       "      <th>X_8</th>\n",
       "      <th>X_9</th>\n",
       "      <th>X_10</th>\n",
       "      <th>X_11</th>\n",
       "      <th>X_12</th>\n",
       "      <th>X_13</th>\n",
       "      <th>X_14</th>\n",
       "      <th>X_15</th>\n",
       "      <th>MULTIPLE_OFFENSE</th>\n",
       "    </tr>\n",
       "  </thead>\n",
       "  <tbody>\n",
       "    <tr>\n",
       "      <th>17248</th>\n",
       "      <td>CR_152352</td>\n",
       "      <td>08-JUN-11</td>\n",
       "      <td>0</td>\n",
       "      <td>35</td>\n",
       "      <td>30</td>\n",
       "      <td>3</td>\n",
       "      <td>5</td>\n",
       "      <td>1</td>\n",
       "      <td>0</td>\n",
       "      <td>1</td>\n",
       "      <td>2</td>\n",
       "      <td>1</td>\n",
       "      <td>174</td>\n",
       "      <td>1.0</td>\n",
       "      <td>103</td>\n",
       "      <td>142</td>\n",
       "      <td>34</td>\n",
       "      <td>1</td>\n",
       "    </tr>\n",
       "    <tr>\n",
       "      <th>22505</th>\n",
       "      <td>CR_68858</td>\n",
       "      <td>01-JUN-00</td>\n",
       "      <td>0</td>\n",
       "      <td>25</td>\n",
       "      <td>25</td>\n",
       "      <td>9</td>\n",
       "      <td>0</td>\n",
       "      <td>6</td>\n",
       "      <td>4</td>\n",
       "      <td>1</td>\n",
       "      <td>2</td>\n",
       "      <td>1</td>\n",
       "      <td>316</td>\n",
       "      <td>1.0</td>\n",
       "      <td>98</td>\n",
       "      <td>29</td>\n",
       "      <td>34</td>\n",
       "      <td>1</td>\n",
       "    </tr>\n",
       "    <tr>\n",
       "      <th>20499</th>\n",
       "      <td>CR_29632</td>\n",
       "      <td>06-JUL-95</td>\n",
       "      <td>0</td>\n",
       "      <td>35</td>\n",
       "      <td>30</td>\n",
       "      <td>3</td>\n",
       "      <td>5</td>\n",
       "      <td>2</td>\n",
       "      <td>7</td>\n",
       "      <td>0</td>\n",
       "      <td>5</td>\n",
       "      <td>2</td>\n",
       "      <td>128</td>\n",
       "      <td>2.0</td>\n",
       "      <td>98</td>\n",
       "      <td>29</td>\n",
       "      <td>34</td>\n",
       "      <td>0</td>\n",
       "    </tr>\n",
       "    <tr>\n",
       "      <th>12530</th>\n",
       "      <td>CR_95494</td>\n",
       "      <td>03-JUL-03</td>\n",
       "      <td>0</td>\n",
       "      <td>37</td>\n",
       "      <td>37</td>\n",
       "      <td>0</td>\n",
       "      <td>0</td>\n",
       "      <td>2</td>\n",
       "      <td>7</td>\n",
       "      <td>1</td>\n",
       "      <td>6</td>\n",
       "      <td>1</td>\n",
       "      <td>0</td>\n",
       "      <td>1.0</td>\n",
       "      <td>98</td>\n",
       "      <td>29</td>\n",
       "      <td>34</td>\n",
       "      <td>1</td>\n",
       "    </tr>\n",
       "    <tr>\n",
       "      <th>10845</th>\n",
       "      <td>CR_29520</td>\n",
       "      <td>10-NOV-95</td>\n",
       "      <td>0</td>\n",
       "      <td>33</td>\n",
       "      <td>32</td>\n",
       "      <td>2</td>\n",
       "      <td>1</td>\n",
       "      <td>7</td>\n",
       "      <td>1</td>\n",
       "      <td>1</td>\n",
       "      <td>2</td>\n",
       "      <td>1</td>\n",
       "      <td>174</td>\n",
       "      <td>0.0</td>\n",
       "      <td>116</td>\n",
       "      <td>93</td>\n",
       "      <td>0</td>\n",
       "      <td>1</td>\n",
       "    </tr>\n",
       "    <tr>\n",
       "      <th>21224</th>\n",
       "      <td>CR_78360</td>\n",
       "      <td>20-JAN-01</td>\n",
       "      <td>0</td>\n",
       "      <td>33</td>\n",
       "      <td>32</td>\n",
       "      <td>2</td>\n",
       "      <td>1</td>\n",
       "      <td>7</td>\n",
       "      <td>1</td>\n",
       "      <td>0</td>\n",
       "      <td>5</td>\n",
       "      <td>1</td>\n",
       "      <td>174</td>\n",
       "      <td>0.0</td>\n",
       "      <td>103</td>\n",
       "      <td>93</td>\n",
       "      <td>43</td>\n",
       "      <td>1</td>\n",
       "    </tr>\n",
       "    <tr>\n",
       "      <th>226</th>\n",
       "      <td>CR_130028</td>\n",
       "      <td>22-MAR-08</td>\n",
       "      <td>0</td>\n",
       "      <td>21</td>\n",
       "      <td>23</td>\n",
       "      <td>4</td>\n",
       "      <td>1</td>\n",
       "      <td>2</td>\n",
       "      <td>7</td>\n",
       "      <td>1</td>\n",
       "      <td>5</td>\n",
       "      <td>1</td>\n",
       "      <td>249</td>\n",
       "      <td>1.0</td>\n",
       "      <td>103</td>\n",
       "      <td>142</td>\n",
       "      <td>34</td>\n",
       "      <td>1</td>\n",
       "    </tr>\n",
       "    <tr>\n",
       "      <th>16352</th>\n",
       "      <td>CR_117131</td>\n",
       "      <td>19-OCT-06</td>\n",
       "      <td>0</td>\n",
       "      <td>35</td>\n",
       "      <td>30</td>\n",
       "      <td>3</td>\n",
       "      <td>5</td>\n",
       "      <td>4</td>\n",
       "      <td>2</td>\n",
       "      <td>8</td>\n",
       "      <td>2</td>\n",
       "      <td>1</td>\n",
       "      <td>316</td>\n",
       "      <td>1.0</td>\n",
       "      <td>72</td>\n",
       "      <td>80</td>\n",
       "      <td>34</td>\n",
       "      <td>1</td>\n",
       "    </tr>\n",
       "    <tr>\n",
       "      <th>14441</th>\n",
       "      <td>CR_108634</td>\n",
       "      <td>13-JUN-05</td>\n",
       "      <td>0</td>\n",
       "      <td>25</td>\n",
       "      <td>25</td>\n",
       "      <td>9</td>\n",
       "      <td>0</td>\n",
       "      <td>3</td>\n",
       "      <td>5</td>\n",
       "      <td>2</td>\n",
       "      <td>6</td>\n",
       "      <td>3</td>\n",
       "      <td>249</td>\n",
       "      <td>3.0</td>\n",
       "      <td>103</td>\n",
       "      <td>87</td>\n",
       "      <td>34</td>\n",
       "      <td>1</td>\n",
       "    </tr>\n",
       "    <tr>\n",
       "      <th>11875</th>\n",
       "      <td>CR_176383</td>\n",
       "      <td>28-OCT-15</td>\n",
       "      <td>0</td>\n",
       "      <td>36</td>\n",
       "      <td>34</td>\n",
       "      <td>2</td>\n",
       "      <td>1</td>\n",
       "      <td>1</td>\n",
       "      <td>0</td>\n",
       "      <td>1</td>\n",
       "      <td>5</td>\n",
       "      <td>1</td>\n",
       "      <td>316</td>\n",
       "      <td>1.0</td>\n",
       "      <td>103</td>\n",
       "      <td>93</td>\n",
       "      <td>34</td>\n",
       "      <td>1</td>\n",
       "    </tr>\n",
       "  </tbody>\n",
       "</table>\n",
       "</div>"
      ],
      "text/plain": [
       "      INCIDENT_ID       DATE  X_1  X_2  X_3  X_4  X_5  X_6  X_7  X_8  X_9  \\\n",
       "17248   CR_152352  08-JUN-11    0   35   30    3    5    1    0    1    2   \n",
       "22505    CR_68858  01-JUN-00    0   25   25    9    0    6    4    1    2   \n",
       "20499    CR_29632  06-JUL-95    0   35   30    3    5    2    7    0    5   \n",
       "12530    CR_95494  03-JUL-03    0   37   37    0    0    2    7    1    6   \n",
       "10845    CR_29520  10-NOV-95    0   33   32    2    1    7    1    1    2   \n",
       "21224    CR_78360  20-JAN-01    0   33   32    2    1    7    1    0    5   \n",
       "226     CR_130028  22-MAR-08    0   21   23    4    1    2    7    1    5   \n",
       "16352   CR_117131  19-OCT-06    0   35   30    3    5    4    2    8    2   \n",
       "14441   CR_108634  13-JUN-05    0   25   25    9    0    3    5    2    6   \n",
       "11875   CR_176383  28-OCT-15    0   36   34    2    1    1    0    1    5   \n",
       "\n",
       "       X_10  X_11  X_12  X_13  X_14  X_15  MULTIPLE_OFFENSE  \n",
       "17248     1   174   1.0   103   142    34                 1  \n",
       "22505     1   316   1.0    98    29    34                 1  \n",
       "20499     2   128   2.0    98    29    34                 0  \n",
       "12530     1     0   1.0    98    29    34                 1  \n",
       "10845     1   174   0.0   116    93     0                 1  \n",
       "21224     1   174   0.0   103    93    43                 1  \n",
       "226       1   249   1.0   103   142    34                 1  \n",
       "16352     1   316   1.0    72    80    34                 1  \n",
       "14441     3   249   3.0   103    87    34                 1  \n",
       "11875     1   316   1.0   103    93    34                 1  "
      ]
     },
     "execution_count": 6,
     "metadata": {},
     "output_type": "execute_result"
    }
   ],
   "source": [
    "train_df.sample(10)"
   ]
  },
  {
   "cell_type": "code",
   "execution_count": 7,
   "metadata": {},
   "outputs": [
    {
     "data": {
      "text/plain": [
       "(X_12                182\n",
       " MULTIPLE_OFFENSE      0\n",
       " X_6                   0\n",
       " DATE                  0\n",
       " X_1                   0\n",
       " X_2                   0\n",
       " X_3                   0\n",
       " X_4                   0\n",
       " X_5                   0\n",
       " X_7                   0\n",
       " X_15                  0\n",
       " X_8                   0\n",
       " X_9                   0\n",
       " X_10                  0\n",
       " X_11                  0\n",
       " X_13                  0\n",
       " X_14                  0\n",
       " INCIDENT_ID           0\n",
       " dtype: int64,\n",
       " X_12           127\n",
       " X_15             0\n",
       " X_6              0\n",
       " DATE             0\n",
       " X_1              0\n",
       " X_2              0\n",
       " X_3              0\n",
       " X_4              0\n",
       " X_5              0\n",
       " X_7              0\n",
       " X_14             0\n",
       " X_8              0\n",
       " X_9              0\n",
       " X_10             0\n",
       " X_11             0\n",
       " X_13             0\n",
       " INCIDENT_ID      0\n",
       " dtype: int64)"
      ]
     },
     "execution_count": 7,
     "metadata": {},
     "output_type": "execute_result"
    }
   ],
   "source": [
    "#check for null values\n",
    "train_df.isnull().sum().sort_values(ascending=False),test_df.isnull().sum().sort_values(ascending=False)"
   ]
  },
  {
   "cell_type": "code",
   "execution_count": 8,
   "metadata": {},
   "outputs": [
    {
     "name": "stdout",
     "output_type": "stream",
     "text": [
      "<class 'pandas.core.frame.DataFrame'>\n",
      "RangeIndex: 23856 entries, 0 to 23855\n",
      "Data columns (total 18 columns):\n",
      " #   Column            Non-Null Count  Dtype  \n",
      "---  ------            --------------  -----  \n",
      " 0   INCIDENT_ID       23856 non-null  object \n",
      " 1   DATE              23856 non-null  object \n",
      " 2   X_1               23856 non-null  int64  \n",
      " 3   X_2               23856 non-null  int64  \n",
      " 4   X_3               23856 non-null  int64  \n",
      " 5   X_4               23856 non-null  int64  \n",
      " 6   X_5               23856 non-null  int64  \n",
      " 7   X_6               23856 non-null  int64  \n",
      " 8   X_7               23856 non-null  int64  \n",
      " 9   X_8               23856 non-null  int64  \n",
      " 10  X_9               23856 non-null  int64  \n",
      " 11  X_10              23856 non-null  int64  \n",
      " 12  X_11              23856 non-null  int64  \n",
      " 13  X_12              23674 non-null  float64\n",
      " 14  X_13              23856 non-null  int64  \n",
      " 15  X_14              23856 non-null  int64  \n",
      " 16  X_15              23856 non-null  int64  \n",
      " 17  MULTIPLE_OFFENSE  23856 non-null  int64  \n",
      "dtypes: float64(1), int64(15), object(2)\n",
      "memory usage: 3.3+ MB\n"
     ]
    },
    {
     "data": {
      "text/plain": [
       "(                X_1           X_2           X_3           X_4           X_5  \\\n",
       " count  23856.000000  23856.000000  23856.000000  23856.000000  23856.000000   \n",
       " mean       0.483778     24.791206     24.637450      4.276744      2.455609   \n",
       " std        1.439738     15.240231     15.135093      2.944672      1.963095   \n",
       " min        0.000000      0.000000      0.000000      0.000000      0.000000   \n",
       " 25%        0.000000      7.000000      8.000000      2.000000      1.000000   \n",
       " 50%        0.000000     24.000000     24.000000      4.000000      3.000000   \n",
       " 75%        0.000000     36.000000     35.000000      6.000000      5.000000   \n",
       " max        7.000000     52.000000     52.000000     10.000000      5.000000   \n",
       " \n",
       "                 X_6           X_7           X_8           X_9          X_10  \\\n",
       " count  23856.000000  23856.000000  23856.000000  23856.000000  23856.000000   \n",
       " mean       6.154175      4.876509      0.972460      4.924128      1.244802   \n",
       " std        4.471756      3.881931      1.453144      1.362625      1.119301   \n",
       " min        1.000000      0.000000      0.000000      0.000000      1.000000   \n",
       " 25%        3.000000      2.000000      0.000000      5.000000      1.000000   \n",
       " 50%        5.000000      4.000000      1.000000      5.000000      1.000000   \n",
       " 75%        8.000000      7.000000      1.000000      6.000000      1.000000   \n",
       " max       19.000000     18.000000     99.000000      6.000000     90.000000   \n",
       " \n",
       "                X_11          X_12          X_13          X_14          X_15  \\\n",
       " count  23856.000000  23674.000000  23856.000000  23856.000000  23856.000000   \n",
       " mean     206.954519      0.974064     85.237383     72.674296     33.464747   \n",
       " std       93.033348      1.167725     27.597226     43.297320      8.386834   \n",
       " min        0.000000      0.000000      0.000000      0.000000      0.000000   \n",
       " 25%      174.000000      1.000000     72.000000     29.000000     34.000000   \n",
       " 50%      249.000000      1.000000     98.000000     62.000000     34.000000   \n",
       " 75%      249.000000      1.000000    103.000000    107.000000     34.000000   \n",
       " max      332.000000     90.000000    116.000000    142.000000     50.000000   \n",
       " \n",
       "        MULTIPLE_OFFENSE  \n",
       " count      23856.000000  \n",
       " mean           0.955231  \n",
       " std            0.206800  \n",
       " min            0.000000  \n",
       " 25%            1.000000  \n",
       " 50%            1.000000  \n",
       " 75%            1.000000  \n",
       " max            1.000000  ,\n",
       " None)"
      ]
     },
     "execution_count": 8,
     "metadata": {},
     "output_type": "execute_result"
    }
   ],
   "source": [
    "train_df.describe(),train_df.info()"
   ]
  },
  {
   "cell_type": "code",
   "execution_count": 9,
   "metadata": {},
   "outputs": [
    {
     "data": {
      "text/plain": [
       "(nan, nan)"
      ]
     },
     "execution_count": 9,
     "metadata": {},
     "output_type": "execute_result"
    }
   ],
   "source": [
    "#checking for outlier\n",
    "p=train_df['X_12']\n",
    "def outlier_treatment(datacolumn):\n",
    " sorted(datacolumn)\n",
    " Q1,Q3 = np.percentile(datacolumn , [25,75])\n",
    " IQR = Q3-Q1\n",
    " lower_range = Q1-(1.5*IQR)\n",
    " upper_range = Q3+(1.5*IQR)\n",
    " return lower_range,upper_range\n",
    "\n",
    "lowerbound,upperbound = outlier_treatment(p)\n",
    "lowerbound,upperbound\n"
   ]
  },
  {
   "cell_type": "code",
   "execution_count": 10,
   "metadata": {},
   "outputs": [],
   "source": [
    "#train_df['X_12'].fillna((train_df['X_12'].median()), inplace=True)\n",
    "#fill null values with median\n",
    "train_df['X_12'].fillna((train_df['X_12'].mean()), inplace=True)"
   ]
  },
  {
   "cell_type": "code",
   "execution_count": 11,
   "metadata": {},
   "outputs": [],
   "source": [
    "#test_df['X_12'].fillna((test_df['X_12'].median()), inplace=True)\n",
    "#fill null values with median\n",
    "test_df['X_12'].fillna((test_df['X_12'].mean()), inplace=True)"
   ]
  },
  {
   "cell_type": "code",
   "execution_count": 12,
   "metadata": {},
   "outputs": [
    {
     "data": {
      "text/plain": [
       "MULTIPLE_OFFENSE    0\n",
       "X_15                0\n",
       "DATE                0\n",
       "X_1                 0\n",
       "X_2                 0\n",
       "X_3                 0\n",
       "X_4                 0\n",
       "X_5                 0\n",
       "X_6                 0\n",
       "X_7                 0\n",
       "X_8                 0\n",
       "X_9                 0\n",
       "X_10                0\n",
       "X_11                0\n",
       "X_12                0\n",
       "X_13                0\n",
       "X_14                0\n",
       "INCIDENT_ID         0\n",
       "dtype: int64"
      ]
     },
     "execution_count": 12,
     "metadata": {},
     "output_type": "execute_result"
    }
   ],
   "source": [
    "train_df.isnull().sum().sort_values(ascending=False)"
   ]
  },
  {
   "cell_type": "code",
   "execution_count": 13,
   "metadata": {},
   "outputs": [
    {
     "data": {
      "image/png": "[encoded data removed]",
      "text/plain": [
       "<Figure size 1080x432 with 2 Axes>"
      ]
     },
     "metadata": {
      "needs_background": "light"
     },
     "output_type": "display_data"
    }
   ],
   "source": [
    "#plotting correlation matrix\n",
    "corr_data = train_df.corr()\n",
    "plt.figure(figsize=(15, 6))\n",
    "sns.set_style('ticks')\n",
    "sns.heatmap(corr_data, annot=True)\n",
    "plt.show()"
   ]
  },
  {
   "cell_type": "code",
   "execution_count": 14,
   "metadata": {},
   "outputs": [
    {
     "name": "stdout",
     "output_type": "stream",
     "text": [
      "Top Absolute Correlations\n",
      "X_2   X_3     0.996985\n",
      "X_10  X_12    0.877471\n",
      "X_6   X_7     0.695243\n",
      "X_4   X_5     0.439616\n",
      "X_1   X_7     0.421454\n",
      "      X_6     0.409876\n",
      "X_2   X_5     0.349190\n",
      "X_3   X_5     0.347519\n",
      "X_9   X_14    0.297295\n",
      "X_8   X_12    0.272828\n",
      "dtype: float64\n"
     ]
    }
   ],
   "source": [
    "# get top n correlated features\n",
    "train_df1=train_df.drop(['INCIDENT_ID','DATE'],axis=1)\n",
    "\n",
    "def get_redundant_pairs(df):\n",
    "    pairs_to_drop = set()\n",
    "    cols = df.columns\n",
    "    for i in range(0, df.shape[1]):\n",
    "        for j in range(0, i+1):\n",
    "            pairs_to_drop.add((cols[i], cols[j]))\n",
    "    return pairs_to_drop\n",
    "\n",
    "def get_top_abs_correlations(df, n=5):\n",
    "    au_corr = df.corr().abs().unstack()\n",
    "    labels_to_drop = get_redundant_pairs(df)\n",
    "    au_corr = au_corr.drop(labels=labels_to_drop).sort_values(ascending=False)\n",
    "    return au_corr[0:n]\n",
    "\n",
    "print(\"Top Absolute Correlations\")\n",
    "print(get_top_abs_correlations(train_df1, 10))"
   ]
  },
  {
   "cell_type": "code",
   "execution_count": 15,
   "metadata": {},
   "outputs": [],
   "source": [
    "data = train_df1[['X_2','X_3','X_10','X_12', 'X_6', 'X_7']]"
   ]
  },
  {
   "cell_type": "code",
   "execution_count": 16,
   "metadata": {},
   "outputs": [
    {
     "data": {
      "text/html": [
       "<div>\n",
       "<style scoped>\n",
       "    .dataframe tbody tr th:only-of-type {\n",
       "        vertical-align: middle;\n",
       "    }\n",
       "\n",
       "    .dataframe tbody tr th {\n",
       "        vertical-align: top;\n",
       "    }\n",
       "\n",
       "    .dataframe thead th {\n",
       "        text-align: right;\n",
       "    }\n",
       "</style>\n",
       "<table border=\"1\" class=\"dataframe\">\n",
       "  <thead>\n",
       "    <tr style=\"text-align: right;\">\n",
       "      <th></th>\n",
       "      <th>X_2</th>\n",
       "      <th>X_3</th>\n",
       "      <th>X_10</th>\n",
       "      <th>X_12</th>\n",
       "      <th>X_6</th>\n",
       "      <th>X_7</th>\n",
       "    </tr>\n",
       "  </thead>\n",
       "  <tbody>\n",
       "    <tr>\n",
       "      <th>0</th>\n",
       "      <td>0.735474</td>\n",
       "      <td>0.618599</td>\n",
       "      <td>-0.21871</td>\n",
       "      <td>0.022296</td>\n",
       "      <td>-0.258103</td>\n",
       "      <td>0.289416</td>\n",
       "    </tr>\n",
       "    <tr>\n",
       "      <th>1</th>\n",
       "      <td>0.801090</td>\n",
       "      <td>0.816814</td>\n",
       "      <td>-0.21871</td>\n",
       "      <td>0.022296</td>\n",
       "      <td>1.083651</td>\n",
       "      <td>3.123057</td>\n",
       "    </tr>\n",
       "    <tr>\n",
       "      <th>2</th>\n",
       "      <td>-1.429847</td>\n",
       "      <td>-1.495693</td>\n",
       "      <td>-0.21871</td>\n",
       "      <td>0.022296</td>\n",
       "      <td>-1.152606</td>\n",
       "      <td>-1.256207</td>\n",
       "    </tr>\n",
       "    <tr>\n",
       "      <th>3</th>\n",
       "      <td>0.538627</td>\n",
       "      <td>0.486456</td>\n",
       "      <td>-0.21871</td>\n",
       "      <td>0.022296</td>\n",
       "      <td>0.189148</td>\n",
       "      <td>-0.998603</td>\n",
       "    </tr>\n",
       "    <tr>\n",
       "      <th>4</th>\n",
       "      <td>0.538627</td>\n",
       "      <td>0.486456</td>\n",
       "      <td>-0.21871</td>\n",
       "      <td>-0.837356</td>\n",
       "      <td>0.412774</td>\n",
       "      <td>-0.483396</td>\n",
       "    </tr>\n",
       "  </tbody>\n",
       "</table>\n",
       "</div>"
      ],
      "text/plain": [
       "        X_2       X_3     X_10      X_12       X_6       X_7\n",
       "0  0.735474  0.618599 -0.21871  0.022296 -0.258103  0.289416\n",
       "1  0.801090  0.816814 -0.21871  0.022296  1.083651  3.123057\n",
       "2 -1.429847 -1.495693 -0.21871  0.022296 -1.152606 -1.256207\n",
       "3  0.538627  0.486456 -0.21871  0.022296  0.189148 -0.998603\n",
       "4  0.538627  0.486456 -0.21871 -0.837356  0.412774 -0.483396"
      ]
     },
     "execution_count": 16,
     "metadata": {},
     "output_type": "execute_result"
    }
   ],
   "source": [
    "#standarize the data\n",
    "def standardize(data_features):\n",
    "    data_features = (data_features - data_features.mean()) /data_features.std()\n",
    "    return data_features\n",
    "\n",
    "std_data = data.apply(standardize, axis=0)\n",
    "std_data.head()"
   ]
  },
  {
   "cell_type": "code",
   "execution_count": 17,
   "metadata": {},
   "outputs": [
    {
     "data": {
      "text/html": [
       "<div>\n",
       "<style scoped>\n",
       "    .dataframe tbody tr th:only-of-type {\n",
       "        vertical-align: middle;\n",
       "    }\n",
       "\n",
       "    .dataframe tbody tr th {\n",
       "        vertical-align: top;\n",
       "    }\n",
       "\n",
       "    .dataframe thead th {\n",
       "        text-align: right;\n",
       "    }\n",
       "</style>\n",
       "<table border=\"1\" class=\"dataframe\">\n",
       "  <thead>\n",
       "    <tr style=\"text-align: right;\">\n",
       "      <th></th>\n",
       "      <th>VIF_Factor</th>\n",
       "      <th>features</th>\n",
       "    </tr>\n",
       "  </thead>\n",
       "  <tbody>\n",
       "    <tr>\n",
       "      <th>0</th>\n",
       "      <td>173.371977</td>\n",
       "      <td>X_2</td>\n",
       "    </tr>\n",
       "    <tr>\n",
       "      <th>1</th>\n",
       "      <td>173.374680</td>\n",
       "      <td>X_3</td>\n",
       "    </tr>\n",
       "    <tr>\n",
       "      <th>2</th>\n",
       "      <td>4.422116</td>\n",
       "      <td>X_10</td>\n",
       "    </tr>\n",
       "    <tr>\n",
       "      <th>3</th>\n",
       "      <td>4.445376</td>\n",
       "      <td>X_12</td>\n",
       "    </tr>\n",
       "    <tr>\n",
       "      <th>4</th>\n",
       "      <td>1.989519</td>\n",
       "      <td>X_6</td>\n",
       "    </tr>\n",
       "    <tr>\n",
       "      <th>5</th>\n",
       "      <td>2.013487</td>\n",
       "      <td>X_7</td>\n",
       "    </tr>\n",
       "  </tbody>\n",
       "</table>\n",
       "</div>"
      ],
      "text/plain": [
       "   VIF_Factor features\n",
       "0  173.371977      X_2\n",
       "1  173.374680      X_3\n",
       "2    4.422116     X_10\n",
       "3    4.445376     X_12\n",
       "4    1.989519      X_6\n",
       "5    2.013487      X_7"
      ]
     },
     "execution_count": 17,
     "metadata": {},
     "output_type": "execute_result"
    }
   ],
   "source": [
    "#The variance inflation factor (VIF) quantifies the extent of correlation between one \n",
    "#predictor and the other predictors in a model. \n",
    "#It is used for diagnosing collinearity/multicollinearity. \n",
    "#Value lies between 4-5\n",
    "from statsmodels.stats.outliers_influence import variance_inflation_factor\n",
    "vif = pd.DataFrame()\n",
    "vif[\"VIF_Factor\"] = [variance_inflation_factor(std_data.values, i) for i in range(std_data.shape[1])]\n",
    "vif[\"features\"] = std_data.columns\n",
    "vif"
   ]
  },
  {
   "cell_type": "code",
   "execution_count": 18,
   "metadata": {},
   "outputs": [],
   "source": [
    "# drop X_2 , X_3 as very highly correlated\n",
    "std_data.drop(['X_2','X_3'], axis=1, inplace=True)"
   ]
  },
  {
   "cell_type": "code",
   "execution_count": 19,
   "metadata": {},
   "outputs": [
    {
     "data": {
      "text/html": [
       "<div>\n",
       "<style scoped>\n",
       "    .dataframe tbody tr th:only-of-type {\n",
       "        vertical-align: middle;\n",
       "    }\n",
       "\n",
       "    .dataframe tbody tr th {\n",
       "        vertical-align: top;\n",
       "    }\n",
       "\n",
       "    .dataframe thead th {\n",
       "        text-align: right;\n",
       "    }\n",
       "</style>\n",
       "<table border=\"1\" class=\"dataframe\">\n",
       "  <thead>\n",
       "    <tr style=\"text-align: right;\">\n",
       "      <th></th>\n",
       "      <th>VIF_Factor</th>\n",
       "      <th>features</th>\n",
       "    </tr>\n",
       "  </thead>\n",
       "  <tbody>\n",
       "    <tr>\n",
       "      <th>0</th>\n",
       "      <td>4.395811</td>\n",
       "      <td>X_10</td>\n",
       "    </tr>\n",
       "    <tr>\n",
       "      <th>1</th>\n",
       "      <td>4.401334</td>\n",
       "      <td>X_12</td>\n",
       "    </tr>\n",
       "    <tr>\n",
       "      <th>2</th>\n",
       "      <td>1.956220</td>\n",
       "      <td>X_6</td>\n",
       "    </tr>\n",
       "    <tr>\n",
       "      <th>3</th>\n",
       "      <td>1.939000</td>\n",
       "      <td>X_7</td>\n",
       "    </tr>\n",
       "  </tbody>\n",
       "</table>\n",
       "</div>"
      ],
      "text/plain": [
       "   VIF_Factor features\n",
       "0    4.395811     X_10\n",
       "1    4.401334     X_12\n",
       "2    1.956220      X_6\n",
       "3    1.939000      X_7"
      ]
     },
     "execution_count": 19,
     "metadata": {},
     "output_type": "execute_result"
    }
   ],
   "source": [
    "vif = pd.DataFrame()\n",
    "vif[\"VIF_Factor\"] = [variance_inflation_factor(std_data.values, i) for i in range(std_data.shape[1])]\n",
    "vif[\"features\"] = std_data.columns\n",
    "vif"
   ]
  },
  {
   "cell_type": "code",
   "execution_count": 20,
   "metadata": {
    "scrolled": true
   },
   "outputs": [],
   "source": [
    "train_df=train_df.drop(['X_2','X_3'],axis=1)\n",
    "test_df=test_df.drop(['X_2','X_3'],axis=1)"
   ]
  },
  {
   "cell_type": "code",
   "execution_count": 21,
   "metadata": {},
   "outputs": [
    {
     "data": {
      "text/plain": [
       "Index(['INCIDENT_ID', 'DATE', 'X_1', 'X_4', 'X_5', 'X_6', 'X_7', 'X_8', 'X_9',\n",
       "       'X_10', 'X_11', 'X_12', 'X_13', 'X_14', 'X_15', 'MULTIPLE_OFFENSE'],\n",
       "      dtype='object')"
      ]
     },
     "execution_count": 21,
     "metadata": {},
     "output_type": "execute_result"
    }
   ],
   "source": [
    "train_df.columns"
   ]
  },
  {
   "cell_type": "code",
   "execution_count": 22,
   "metadata": {},
   "outputs": [
    {
     "data": {
      "text/html": [
       "<div>\n",
       "<style scoped>\n",
       "    .dataframe tbody tr th:only-of-type {\n",
       "        vertical-align: middle;\n",
       "    }\n",
       "\n",
       "    .dataframe tbody tr th {\n",
       "        vertical-align: top;\n",
       "    }\n",
       "\n",
       "    .dataframe thead th {\n",
       "        text-align: right;\n",
       "    }\n",
       "</style>\n",
       "<table border=\"1\" class=\"dataframe\">\n",
       "  <thead>\n",
       "    <tr style=\"text-align: right;\">\n",
       "      <th></th>\n",
       "      <th>INCIDENT_ID</th>\n",
       "      <th>DATE</th>\n",
       "      <th>X_1</th>\n",
       "      <th>X_4</th>\n",
       "      <th>X_5</th>\n",
       "      <th>X_6</th>\n",
       "      <th>X_7</th>\n",
       "      <th>X_8</th>\n",
       "      <th>X_9</th>\n",
       "      <th>X_10</th>\n",
       "      <th>X_11</th>\n",
       "      <th>X_12</th>\n",
       "      <th>X_13</th>\n",
       "      <th>X_14</th>\n",
       "      <th>X_15</th>\n",
       "      <th>MULTIPLE_OFFENSE</th>\n",
       "    </tr>\n",
       "  </thead>\n",
       "  <tbody>\n",
       "    <tr>\n",
       "      <th>0</th>\n",
       "      <td>CR_102659</td>\n",
       "      <td>04-JUL-04</td>\n",
       "      <td>0</td>\n",
       "      <td>2</td>\n",
       "      <td>1</td>\n",
       "      <td>5</td>\n",
       "      <td>6</td>\n",
       "      <td>1</td>\n",
       "      <td>6</td>\n",
       "      <td>1</td>\n",
       "      <td>174</td>\n",
       "      <td>1.0</td>\n",
       "      <td>92</td>\n",
       "      <td>29</td>\n",
       "      <td>36</td>\n",
       "      <td>0</td>\n",
       "    </tr>\n",
       "    <tr>\n",
       "      <th>1</th>\n",
       "      <td>CR_189752</td>\n",
       "      <td>18-JUL-17</td>\n",
       "      <td>1</td>\n",
       "      <td>0</td>\n",
       "      <td>0</td>\n",
       "      <td>11</td>\n",
       "      <td>17</td>\n",
       "      <td>1</td>\n",
       "      <td>6</td>\n",
       "      <td>1</td>\n",
       "      <td>236</td>\n",
       "      <td>1.0</td>\n",
       "      <td>103</td>\n",
       "      <td>142</td>\n",
       "      <td>34</td>\n",
       "      <td>1</td>\n",
       "    </tr>\n",
       "    <tr>\n",
       "      <th>2</th>\n",
       "      <td>CR_184637</td>\n",
       "      <td>15-MAR-17</td>\n",
       "      <td>0</td>\n",
       "      <td>3</td>\n",
       "      <td>5</td>\n",
       "      <td>1</td>\n",
       "      <td>0</td>\n",
       "      <td>2</td>\n",
       "      <td>3</td>\n",
       "      <td>1</td>\n",
       "      <td>174</td>\n",
       "      <td>1.0</td>\n",
       "      <td>110</td>\n",
       "      <td>93</td>\n",
       "      <td>34</td>\n",
       "      <td>1</td>\n",
       "    </tr>\n",
       "    <tr>\n",
       "      <th>3</th>\n",
       "      <td>CR_139071</td>\n",
       "      <td>13-FEB-09</td>\n",
       "      <td>0</td>\n",
       "      <td>2</td>\n",
       "      <td>1</td>\n",
       "      <td>7</td>\n",
       "      <td>1</td>\n",
       "      <td>1</td>\n",
       "      <td>6</td>\n",
       "      <td>1</td>\n",
       "      <td>249</td>\n",
       "      <td>1.0</td>\n",
       "      <td>72</td>\n",
       "      <td>29</td>\n",
       "      <td>34</td>\n",
       "      <td>1</td>\n",
       "    </tr>\n",
       "    <tr>\n",
       "      <th>4</th>\n",
       "      <td>CR_109335</td>\n",
       "      <td>13-APR-05</td>\n",
       "      <td>0</td>\n",
       "      <td>2</td>\n",
       "      <td>1</td>\n",
       "      <td>8</td>\n",
       "      <td>3</td>\n",
       "      <td>0</td>\n",
       "      <td>5</td>\n",
       "      <td>1</td>\n",
       "      <td>174</td>\n",
       "      <td>0.0</td>\n",
       "      <td>112</td>\n",
       "      <td>29</td>\n",
       "      <td>43</td>\n",
       "      <td>1</td>\n",
       "    </tr>\n",
       "    <tr>\n",
       "      <th>5</th>\n",
       "      <td>CR_96263</td>\n",
       "      <td>07-APR-03</td>\n",
       "      <td>0</td>\n",
       "      <td>10</td>\n",
       "      <td>3</td>\n",
       "      <td>1</td>\n",
       "      <td>0</td>\n",
       "      <td>1</td>\n",
       "      <td>6</td>\n",
       "      <td>1</td>\n",
       "      <td>303</td>\n",
       "      <td>1.0</td>\n",
       "      <td>72</td>\n",
       "      <td>62</td>\n",
       "      <td>34</td>\n",
       "      <td>1</td>\n",
       "    </tr>\n",
       "    <tr>\n",
       "      <th>6</th>\n",
       "      <td>CR_131400</td>\n",
       "      <td>22-JAN-08</td>\n",
       "      <td>0</td>\n",
       "      <td>7</td>\n",
       "      <td>3</td>\n",
       "      <td>7</td>\n",
       "      <td>1</td>\n",
       "      <td>0</td>\n",
       "      <td>5</td>\n",
       "      <td>1</td>\n",
       "      <td>174</td>\n",
       "      <td>0.0</td>\n",
       "      <td>112</td>\n",
       "      <td>29</td>\n",
       "      <td>43</td>\n",
       "      <td>1</td>\n",
       "    </tr>\n",
       "    <tr>\n",
       "      <th>7</th>\n",
       "      <td>CR_11981</td>\n",
       "      <td>14-MAY-93</td>\n",
       "      <td>0</td>\n",
       "      <td>7</td>\n",
       "      <td>3</td>\n",
       "      <td>9</td>\n",
       "      <td>8</td>\n",
       "      <td>0</td>\n",
       "      <td>5</td>\n",
       "      <td>1</td>\n",
       "      <td>316</td>\n",
       "      <td>1.0</td>\n",
       "      <td>72</td>\n",
       "      <td>62</td>\n",
       "      <td>34</td>\n",
       "      <td>1</td>\n",
       "    </tr>\n",
       "    <tr>\n",
       "      <th>8</th>\n",
       "      <td>CR_184134</td>\n",
       "      <td>21-AUG-16</td>\n",
       "      <td>0</td>\n",
       "      <td>6</td>\n",
       "      <td>5</td>\n",
       "      <td>8</td>\n",
       "      <td>3</td>\n",
       "      <td>1</td>\n",
       "      <td>1</td>\n",
       "      <td>1</td>\n",
       "      <td>316</td>\n",
       "      <td>1.0</td>\n",
       "      <td>103</td>\n",
       "      <td>14</td>\n",
       "      <td>34</td>\n",
       "      <td>1</td>\n",
       "    </tr>\n",
       "    <tr>\n",
       "      <th>9</th>\n",
       "      <td>CR_32634</td>\n",
       "      <td>25-AUG-96</td>\n",
       "      <td>1</td>\n",
       "      <td>6</td>\n",
       "      <td>5</td>\n",
       "      <td>15</td>\n",
       "      <td>10</td>\n",
       "      <td>0</td>\n",
       "      <td>5</td>\n",
       "      <td>2</td>\n",
       "      <td>145</td>\n",
       "      <td>1.0</td>\n",
       "      <td>103</td>\n",
       "      <td>29</td>\n",
       "      <td>34</td>\n",
       "      <td>0</td>\n",
       "    </tr>\n",
       "  </tbody>\n",
       "</table>\n",
       "</div>"
      ],
      "text/plain": [
       "  INCIDENT_ID       DATE  X_1  X_4  X_5  X_6  X_7  X_8  X_9  X_10  X_11  X_12  \\\n",
       "0   CR_102659  04-JUL-04    0    2    1    5    6    1    6     1   174   1.0   \n",
       "1   CR_189752  18-JUL-17    1    0    0   11   17    1    6     1   236   1.0   \n",
       "2   CR_184637  15-MAR-17    0    3    5    1    0    2    3     1   174   1.0   \n",
       "3   CR_139071  13-FEB-09    0    2    1    7    1    1    6     1   249   1.0   \n",
       "4   CR_109335  13-APR-05    0    2    1    8    3    0    5     1   174   0.0   \n",
       "5    CR_96263  07-APR-03    0   10    3    1    0    1    6     1   303   1.0   \n",
       "6   CR_131400  22-JAN-08    0    7    3    7    1    0    5     1   174   0.0   \n",
       "7    CR_11981  14-MAY-93    0    7    3    9    8    0    5     1   316   1.0   \n",
       "8   CR_184134  21-AUG-16    0    6    5    8    3    1    1     1   316   1.0   \n",
       "9    CR_32634  25-AUG-96    1    6    5   15   10    0    5     2   145   1.0   \n",
       "\n",
       "   X_13  X_14  X_15  MULTIPLE_OFFENSE  \n",
       "0    92    29    36                 0  \n",
       "1   103   142    34                 1  \n",
       "2   110    93    34                 1  \n",
       "3    72    29    34                 1  \n",
       "4   112    29    43                 1  \n",
       "5    72    62    34                 1  \n",
       "6   112    29    43                 1  \n",
       "7    72    62    34                 1  \n",
       "8   103    14    34                 1  \n",
       "9   103    29    34                 0  "
      ]
     },
     "execution_count": 22,
     "metadata": {},
     "output_type": "execute_result"
    }
   ],
   "source": [
    "train_df.head(10)"
   ]
  },
  {
   "cell_type": "code",
   "execution_count": 23,
   "metadata": {},
   "outputs": [],
   "source": [
    "X = train_df.drop(['MULTIPLE_OFFENSE', 'DATE', 'INCIDENT_ID'], axis=1)\n",
    "eval_X = test_df.drop(['DATE','INCIDENT_ID'], axis=1)\n",
    "Y = train_df['MULTIPLE_OFFENSE']\n",
    "\n",
    "incident_ids_train = train['INCIDENT_ID']\n",
    "incident_ids_eval = test_df['INCIDENT_ID']"
   ]
  },
  {
   "cell_type": "code",
   "execution_count": 24,
   "metadata": {},
   "outputs": [
    {
     "name": "stdout",
     "output_type": "stream",
     "text": [
      "(15267, 13) (15267,)\n",
      "(3817, 13) (3817,)\n",
      "(4772, 13) (4772,)\n"
     ]
    }
   ],
   "source": [
    "from sklearn.model_selection import train_test_split\n",
    "\n",
    "X_train, X_test, y_train, y_test = train_test_split(X, Y, test_size=0.20)\n",
    "X_train, X_cv, y_train, y_cv = train_test_split(X_train, y_train, test_size=0.20)\n",
    "\n",
    "print(X_train.shape, y_train.shape)\n",
    "print(X_cv.shape, y_cv.shape)\n",
    "print(X_test.shape, y_test.shape)"
   ]
  },
  {
   "cell_type": "code",
   "execution_count": 25,
   "metadata": {},
   "outputs": [
    {
     "data": {
      "text/plain": [
       "1    22788\n",
       "0     1068\n",
       "Name: MULTIPLE_OFFENSE, dtype: int64"
      ]
     },
     "execution_count": 25,
     "metadata": {},
     "output_type": "execute_result"
    }
   ],
   "source": [
    "Y.value_counts()"
   ]
  },
  {
   "cell_type": "code",
   "execution_count": 26,
   "metadata": {},
   "outputs": [],
   "source": [
    "from sklearn.preprocessing import StandardScaler\n",
    "scaler = StandardScaler()\n",
    "scaler.fit(X_train)\n",
    "\n",
    "X_train = pd.DataFrame(scaler.transform(X_train), columns=X_train.columns)\n",
    "X_cv = pd.DataFrame(scaler.transform(X_cv), columns=X_cv.columns)\n",
    "X_test = pd.DataFrame(scaler.transform(X_test), columns=X_test.columns)\n",
    "eval_X = pd.DataFrame(scaler.transform(eval_X), columns=eval_X.columns)"
   ]
  },
  {
   "cell_type": "code",
   "execution_count": 29,
   "metadata": {},
   "outputs": [],
   "source": [
    " \n",
    "from sklearn.model_selection import cross_validate\n",
    "from sklearn.model_selection import learning_curve,GridSearchCV\n",
    "import sklearn.metrics as metrics\n",
    "\n",
    "def modelfit(alg, dtrain, predictors, performCV=True, printFeatureImportance=True, cv_folds=5):\n",
    "    #Fit the algorithm on the data\n",
    "    alg.fit(dtrain[predictors], dtrain['MULTIPLE_OFFENSE'])\n",
    "        \n",
    "    #Predict training set:\n",
    "    dtrain_predictions = alg.predict(dtrain[predictors])\n",
    "    dtrain_predprob = alg.predict_proba(dtrain[predictors])[:,1]\n",
    "    \n",
    "    #Perform cross-validation:\n",
    "    if performCV:\n",
    "        cv_score = cross_validate(alg, dtrain[predictors], dtrain['MULTIPLE_OFFENSE'], cv=cv_folds, scoring='roc_auc')\n",
    "    \n",
    "    #Print model report:\n",
    "    print(\"\\nModel Report\")\n",
    "    print(\"Accuracy : %.4g\" % metrics.accuracy_score(dtrain['MULTIPLE_OFFENSE'].values, dtrain_predictions))\n",
    "    print(\"AUC Score (Train): %f\" % metrics.roc_auc_score(dtrain['MULTIPLE_OFFENSE'], dtrain_predprob))\n",
    "        \n",
    "    #Print Feature Importance:\n",
    "    if printFeatureImportance:\n",
    "        feat_imp = pd.Series(alg.feature_importances_, predictors).sort_values(ascending=False)\n",
    "        feat_imp.plot(kind='bar', title='Feature Importances')\n",
    "        plt.ylabel('Feature Importance Score')"
   ]
  },
  {
   "cell_type": "code",
   "execution_count": 30,
   "metadata": {},
   "outputs": [
    {
     "name": "stdout",
     "output_type": "stream",
     "text": [
      "\n",
      "Model Report\n",
      "Accuracy : 0.999\n",
      "AUC Score (Train): 0.999974\n"
     ]
    },
    {
     "data": {
      "image/png": "[encoded data removed]",
      "text/plain": [
       "<Figure size 864x288 with 1 Axes>"
      ]
     },
     "metadata": {},
     "output_type": "display_data"
    }
   ],
   "source": [
    "from sklearn.ensemble import GradientBoostingClassifier\n",
    "predictors = [x for x in X_train.columns]# if x not in [target, IDcol]]\n",
    "gbm0 = GradientBoostingClassifier(random_state=10)\n",
    "modelfit(gbm0, train, predictors)"
   ]
  },
  {
   "cell_type": "code",
   "execution_count": 31,
   "metadata": {},
   "outputs": [
    {
     "name": "stderr",
     "output_type": "stream",
     "text": [
      "/Library/Frameworks/Python.framework/Versions/3.8/lib/python3.8/site-packages/sklearn/model_selection/_search.py:847: FutureWarning: The parameter 'iid' is deprecated in 0.22 and will be removed in 0.24.\n",
      "  warnings.warn(\n"
     ]
    },
    {
     "data": {
      "text/plain": [
       "GridSearchCV(cv=5,\n",
       "             estimator=GradientBoostingClassifier(max_depth=8,\n",
       "                                                  max_features='sqrt',\n",
       "                                                  min_samples_leaf=50,\n",
       "                                                  min_samples_split=500,\n",
       "                                                  random_state=10,\n",
       "                                                  subsample=0.8),\n",
       "             iid=False, n_jobs=4,\n",
       "             param_grid={'n_estimators': range(20, 81, 10)}, scoring='roc_auc')"
      ]
     },
     "execution_count": 31,
     "metadata": {},
     "output_type": "execute_result"
    }
   ],
   "source": [
    "# grid search 'n_estimators' parameter for GradientBoostingClassifier\n",
    "predictors = [x for x in X_train.columns]# if x not in [target, IDcol]]\n",
    "param_test1 = {'n_estimators':range(20,81,10)}\n",
    "gsearch1 = GridSearchCV(estimator = GradientBoostingClassifier(learning_rate=0.1, min_samples_split=500,min_samples_leaf=50,max_depth=8,max_features='sqrt',subsample=0.8,random_state=10), \n",
    "param_grid = param_test1, scoring='roc_auc',n_jobs=4,iid=False, cv=5)\n",
    "gsearch1.fit(train[predictors],train['MULTIPLE_OFFENSE'])"
   ]
  },
  {
   "cell_type": "code",
   "execution_count": 33,
   "metadata": {},
   "outputs": [
    {
     "name": "stdout",
     "output_type": "stream",
     "text": [
      "Best score: 0.9996340783304978\n",
      "Best parameters: {'n_estimators': 80}\n"
     ]
    }
   ],
   "source": [
    "print('Best score: {}'.format(gsearch1.best_score_))\n",
    "print('Best parameters: {}'.format(gsearch1.best_params_))"
   ]
  },
  {
   "cell_type": "code",
   "execution_count": 34,
   "metadata": {},
   "outputs": [
    {
     "name": "stderr",
     "output_type": "stream",
     "text": [
      "/Library/Frameworks/Python.framework/Versions/3.8/lib/python3.8/site-packages/sklearn/model_selection/_search.py:847: FutureWarning: The parameter 'iid' is deprecated in 0.22 and will be removed in 0.24.\n",
      "  warnings.warn(\n"
     ]
    },
    {
     "name": "stdout",
     "output_type": "stream",
     "text": [
      "Best score: 0.9998039347776336\n",
      "Best parameters: {'max_depth': 15, 'min_samples_split': 400}\n"
     ]
    }
   ],
   "source": [
    "# grid search 'max_depth' parameter for GradientBoostingClassifier\n",
    "param_test2 = {'max_depth':range(5,16,2), 'min_samples_split':range(200,1001,200)}\n",
    "gsearch2 = GridSearchCV(estimator = GradientBoostingClassifier(learning_rate=0.1, n_estimators=80, max_features='sqrt', subsample=0.8, random_state=10), \n",
    "param_grid = param_test2, scoring='roc_auc',n_jobs=4,iid=False, cv=5)\n",
    "gsearch2.fit(train[predictors],train['MULTIPLE_OFFENSE'])\n",
    "print('Best score: {}'.format(gsearch2.best_score_))\n",
    "print('Best parameters: {}'.format(gsearch2.best_params_))"
   ]
  },
  {
   "cell_type": "code",
   "execution_count": 35,
   "metadata": {},
   "outputs": [
    {
     "name": "stderr",
     "output_type": "stream",
     "text": [
      "/Library/Frameworks/Python.framework/Versions/3.8/lib/python3.8/site-packages/sklearn/model_selection/_search.py:847: FutureWarning: The parameter 'iid' is deprecated in 0.22 and will be removed in 0.24.\n",
      "  warnings.warn(\n"
     ]
    },
    {
     "name": "stdout",
     "output_type": "stream",
     "text": [
      "Best score: 0.9997481083762713\n",
      "Best parameters: {'min_samples_leaf': 30, 'min_samples_split': 400}\n"
     ]
    }
   ],
   "source": [
    "# grid search 'min_samples_split' parameter for GradientBoostingClassifier\n",
    "param_test3 = {'min_samples_split':range(400,1000,200), 'min_samples_leaf':range(30,71,10)}\n",
    "gsearch3 = GridSearchCV(estimator = GradientBoostingClassifier(learning_rate=0.1, n_estimators=80,max_depth=15,max_features='sqrt', subsample=0.8, random_state=10), \n",
    "param_grid = param_test3, scoring='roc_auc',n_jobs=4,iid=False, cv=5)\n",
    "gsearch3.fit(train[predictors],train['MULTIPLE_OFFENSE'])\n",
    "print('Best score: {}'.format(gsearch3.best_score_))\n",
    "print('Best parameters: {}'.format(gsearch3.best_params_))"
   ]
  },
  {
   "cell_type": "code",
   "execution_count": 36,
   "metadata": {
    "scrolled": true
   },
   "outputs": [
    {
     "name": "stdout",
     "output_type": "stream",
     "text": [
      "\n",
      "Model Report\n",
      "Accuracy : 0.9993\n",
      "AUC Score (Train): 0.999989\n"
     ]
    },
    {
     "data": {
      "image/png": "[encoded data removed]",
      "text/plain": [
       "<Figure size 864x288 with 1 Axes>"
      ]
     },
     "metadata": {},
     "output_type": "display_data"
    }
   ],
   "source": [
    "modelfit(gsearch3.best_estimator_, train, predictors)"
   ]
  },
  {
   "cell_type": "code",
   "execution_count": 37,
   "metadata": {},
   "outputs": [
    {
     "name": "stderr",
     "output_type": "stream",
     "text": [
      "/Library/Frameworks/Python.framework/Versions/3.8/lib/python3.8/site-packages/sklearn/model_selection/_search.py:847: FutureWarning: The parameter 'iid' is deprecated in 0.22 and will be removed in 0.24.\n",
      "  warnings.warn(\n"
     ]
    },
    {
     "name": "stdout",
     "output_type": "stream",
     "text": [
      "Best score: 0.9998114234332336\n",
      "Best parameters: {'max_features': 6}\n"
     ]
    }
   ],
   "source": [
    "# grid search 'max_features' parameter for GradientBoostingClassifier\n",
    "param_test4 = {'max_features':range(2,13,1)}\n",
    "gsearch4 = GridSearchCV(estimator = GradientBoostingClassifier(learning_rate=0.1, n_estimators=80,max_depth=15, min_samples_split=400, min_samples_leaf=30, subsample=0.8, random_state=10),\n",
    "param_grid = param_test4, scoring='roc_auc',n_jobs=4,iid=False, cv=5)\n",
    "gsearch4.fit(train[predictors],train['MULTIPLE_OFFENSE'])\n",
    "print('Best score: {}'.format(gsearch4.best_score_))\n",
    "print('Best parameters: {}'.format(gsearch4.best_params_))"
   ]
  },
  {
   "cell_type": "code",
   "execution_count": 38,
   "metadata": {},
   "outputs": [],
   "source": [
    "from sklearn.ensemble import GradientBoostingClassifier\n",
    "GB = GradientBoostingClassifier(random_state=0,learning_rate=0.1, min_samples_split=400,min_samples_leaf=30,max_depth=15,max_features=6,subsample=0.8)"
   ]
  },
  {
   "cell_type": "code",
   "execution_count": 39,
   "metadata": {
    "scrolled": true
   },
   "outputs": [
    {
     "data": {
      "image/png": "[encoded data removed]",
      "text/plain": [
       "<Figure size 864x288 with 1 Axes>"
      ]
     },
     "metadata": {},
     "output_type": "display_data"
    }
   ],
   "source": [
    "from sklearn.metrics import roc_curve, auc\n",
    "\n",
    "GB.fit(X_train, y_train)\n",
    "\n",
    "train_fpr, train_tpr, thresholds = roc_curve(y_train, GB.predict_proba(X_train)[:,1])\n",
    "test_fpr, test_tpr, thresholds = roc_curve(y_test, GB.predict_proba(X_test)[:,1])\n",
    "\n",
    "plt.plot(train_fpr, train_tpr)\n",
    "plt.plot(test_fpr, test_tpr)\n",
    "plt.show()"
   ]
  },
  {
   "cell_type": "code",
   "execution_count": null,
   "metadata": {},
   "outputs": [],
   "source": [
    "#from sklearn.ensemble import RandomForestClassifier\n",
    "#rf = RandomForestClassifier()\n",
    "#rf.fit(X_train, y_train)\n",
    "#y_pred = rf.predict(X_test)\n",
    "\n",
    "#from sklearn.metrics import roc_curve, auc\n",
    "#false_positive_rate, true_positive_rate, thresholds = roc_curve(y_test, y_pred)\n",
    "#roc_auc = auc(false_positive_rate, true_positive_rate)\n",
    "#roc_auc\n",
    "\n",
    "# n_estimators = [1, 2, 4, 8, 16, 32, 64, 100, 200]\n",
    "# train_results = []\n",
    "# test_results = []\n",
    "# for estimator in n_estimators:\n",
    "#    rf = RandomForestClassifier(n_estimators=estimator, n_jobs=-1)\n",
    "#    rf.fit(X_train, y_train)\n",
    "#    train_pred = rf.predict(X_train)\n",
    "#    false_positive_rate, true_positive_rate, thresholds = roc_curve(y_train, train_pred)\n",
    "#    roc_auc = auc(false_positive_rate, true_positive_rate)\n",
    "#    train_results.append(roc_auc)\n",
    "#    y_pred = rf.predict(X_test)\n",
    "#    false_positive_rate, true_positive_rate, thresholds = roc_curve(y_test, y_pred)\n",
    "#    roc_auc = auc(false_positive_rate, true_positive_rate)\n",
    "#    test_results.append(roc_auc)\n",
    "# from matplotlib.legend_handler import HandlerLine2D\n",
    "# line1, = plt.plot(n_estimators, train_results, \"b\", label=\"Train AUC\")\n",
    "# line2, = plt.plot(n_estimators, test_results, \"r\", label=\"Test AUC\")\n",
    "# plt.legend(handler_map={line1: HandlerLine2D(numpoints=2)})\n",
    "# plt.ylabel(\"AUC score\")\n",
    "# plt.xlabel(\"n_estimators\")\n",
    "# plt.show()\n",
    "\n",
    "# max_depths = np.linspace(1, 32, 32, endpoint=True)\n",
    "# train_results = []\n",
    "# test_results = []\n",
    "# for max_depth in max_depths:\n",
    "#    rf = RandomForestClassifier(max_depth=max_depth, n_jobs=-1)\n",
    "#    rf.fit(X_train, y_train)\n",
    "#    train_pred = rf.predict(X_train)\n",
    "#    false_positive_rate, true_positive_rate, thresholds = roc_curve(y_train, train_pred)\n",
    "#    roc_auc = auc(false_positive_rate, true_positive_rate)\n",
    "#    train_results.append(roc_auc)\n",
    "#    y_pred = rf.predict(X_test)\n",
    "#    false_positive_rate, true_positive_rate, thresholds = roc_curve(y_test, y_pred)\n",
    "#    roc_auc = auc(false_positive_rate, true_positive_rate)\n",
    "#    test_results.append(roc_auc)\n",
    "# from matplotlib.legend_handler import HandlerLine2D\n",
    "# line1, = plt.plot(max_depths, train_results, \"b\", label=\"Train AUC\")\n",
    "# line2, = plt.plot(max_depths, test_results, \"r\", label=\"Test AUC\")\n",
    "# plt.legend(handler_map={line1: HandlerLine2D(numpoints=2)})\n",
    "# plt.ylabel(\"AUC score\")\n",
    "# plt.xlabel(\"Tree depth\")\n",
    "# plt.show()\n",
    "\n",
    "# min_samples_splits = np.linspace(0.1, 1.0, 10, endpoint=True)\n",
    "# train_results = []\n",
    "# test_results = []\n",
    "# for min_samples_split in min_samples_splits:\n",
    "#    rf = RandomForestClassifier(min_samples_split=min_samples_split)\n",
    "#    rf.fit(X_train, y_train)\n",
    "#    train_pred = rf.predict(X_train)\n",
    "#    false_positive_rate, true_positive_rate, thresholds = roc_curve(y_train, train_pred)\n",
    "#    roc_auc = auc(false_positive_rate, true_positive_rate)\n",
    "#    train_results.append(roc_auc)\n",
    "#    y_pred = rf.predict(X_test)\n",
    "#    false_positive_rate, true_positive_rate, thresholds = roc_curve(y_test, y_pred)\n",
    "#    roc_auc = auc(false_positive_rate, true_positive_rate)\n",
    "#    test_results.append(roc_auc)\n",
    "# from matplotlib.legend_handler import HandlerLine2D\n",
    "# line1, = plt.plot(min_samples_splits, train_results, \"b\", label=\"Train AUC\")\n",
    "# line2, = plt.plot(min_samples_splits, test_results, \"r\", label=\"Test AUC\")\n",
    "# plt.legend(handler_map={line1: HandlerLine2D(numpoints=2)})\n",
    "# plt.ylabel(\"AUC score\")\n",
    "# plt.xlabel(\"min samples splits\")\n",
    "# plt.show()"
   ]
  },
  {
   "cell_type": "code",
   "execution_count": 40,
   "metadata": {},
   "outputs": [
    {
     "name": "stdout",
     "output_type": "stream",
     "text": [
      "Train Confusion Matrix\n",
      "[[  679     1]\n",
      " [    0 14587]]\n",
      "Test Confusion Matrix\n",
      "[[ 190    8]\n",
      " [   3 4571]]\n",
      "Training recall Score\n",
      "1.0\n",
      "Test recall Score\n",
      "0.9993441189331002\n"
     ]
    }
   ],
   "source": [
    "from sklearn.metrics import confusion_matrix\n",
    "from sklearn.metrics import f1_score,recall_score\n",
    "\n",
    "y_train_predict = GB.predict(X_train)\n",
    "y_test_predict = GB.predict(X_test)\n",
    "\n",
    "train_confusion_matrix = confusion_matrix(y_train, y_train_predict)\n",
    "test_confusion_matrix = confusion_matrix(y_test, y_test_predict)\n",
    "print(\"Train Confusion Matrix\")\n",
    "print(train_confusion_matrix)\n",
    "print(\"Test Confusion Matrix\")\n",
    "print(test_confusion_matrix)\n",
    "\n",
    "print(\"Training recall Score\")\n",
    "print(recall_score(y_train, y_train_predict))\n",
    "print(\"Test recall Score\")\n",
    "print(recall_score(y_test, y_test_predict))"
   ]
  },
  {
   "cell_type": "code",
   "execution_count": 41,
   "metadata": {},
   "outputs": [
    {
     "name": "stdout",
     "output_type": "stream",
     "text": [
      "(15903, 2)\n"
     ]
    },
    {
     "data": {
      "text/html": [
       "<div>\n",
       "<style scoped>\n",
       "    .dataframe tbody tr th:only-of-type {\n",
       "        vertical-align: middle;\n",
       "    }\n",
       "\n",
       "    .dataframe tbody tr th {\n",
       "        vertical-align: top;\n",
       "    }\n",
       "\n",
       "    .dataframe thead th {\n",
       "        text-align: right;\n",
       "    }\n",
       "</style>\n",
       "<table border=\"1\" class=\"dataframe\">\n",
       "  <thead>\n",
       "    <tr style=\"text-align: right;\">\n",
       "      <th></th>\n",
       "      <th>INCIDENT_ID</th>\n",
       "      <th>MULTIPLE_OFFENSE</th>\n",
       "    </tr>\n",
       "  </thead>\n",
       "  <tbody>\n",
       "    <tr>\n",
       "      <th>0</th>\n",
       "      <td>CR_195453</td>\n",
       "      <td>1</td>\n",
       "    </tr>\n",
       "    <tr>\n",
       "      <th>1</th>\n",
       "      <td>CR_103520</td>\n",
       "      <td>1</td>\n",
       "    </tr>\n",
       "    <tr>\n",
       "      <th>2</th>\n",
       "      <td>CR_196089</td>\n",
       "      <td>1</td>\n",
       "    </tr>\n",
       "    <tr>\n",
       "      <th>3</th>\n",
       "      <td>CR_112195</td>\n",
       "      <td>1</td>\n",
       "    </tr>\n",
       "    <tr>\n",
       "      <th>4</th>\n",
       "      <td>CR_149832</td>\n",
       "      <td>1</td>\n",
       "    </tr>\n",
       "  </tbody>\n",
       "</table>\n",
       "</div>"
      ],
      "text/plain": [
       "  INCIDENT_ID  MULTIPLE_OFFENSE\n",
       "0   CR_195453                 1\n",
       "1   CR_103520                 1\n",
       "2   CR_196089                 1\n",
       "3   CR_112195                 1\n",
       "4   CR_149832                 1"
      ]
     },
     "execution_count": 41,
     "metadata": {},
     "output_type": "execute_result"
    }
   ],
   "source": [
    "results = GB.predict(eval_X)\n",
    "results_df = pd.DataFrame({ 'MULTIPLE_OFFENSE': results, 'INCIDENT_ID': incident_ids_eval })\n",
    "results_df = results_df[['INCIDENT_ID', 'MULTIPLE_OFFENSE']]\n",
    "print(results_df.shape)\n",
    "results_df.head()"
   ]
  },
  {
   "cell_type": "code",
   "execution_count": 42,
   "metadata": {},
   "outputs": [],
   "source": [
    "results_df.to_csv('submission10.csv', index=False)"
   ]
  },
  {
   "cell_type": "code",
   "execution_count": null,
   "metadata": {},
   "outputs": [],
   "source": []
  }
 ],
 "metadata": {
  "kernelspec": {
   "display_name": "Python 3",
   "language": "python",
   "name": "python3"
  },
  "language_info": {
   "codemirror_mode": {
    "name": "ipython",
    "version": 3
   },
   "file_extension": ".py",
   "mimetype": "text/x-python",
   "name": "python",
   "nbconvert_exporter": "python",
   "pygments_lexer": "ipython3",
   "version": "3.8.2"
  }
 },
 "nbformat": 4,
 "nbformat_minor": 4
}
